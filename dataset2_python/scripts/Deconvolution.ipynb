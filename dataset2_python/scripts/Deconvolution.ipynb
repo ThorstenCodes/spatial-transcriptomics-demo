{
 "cells": [
  {
   "cell_type": "markdown",
   "id": "20645e46-457e-4fe5-9b04-2e749f74333d",
   "metadata": {},
   "source": [
    "# Deconvolution of 10x Visium single cell data"
   ]
  },
  {
   "cell_type": "markdown",
   "id": "ae6167da-d72e-4e38-a39e-b126f3d0672c",
   "metadata": {},
   "source": [
    "## 1. Load libraries and h5ad file"
   ]
  },
  {
   "cell_type": "code",
   "execution_count": 1,
   "id": "b373888e-7648-44b0-b361-c801530e7352",
   "metadata": {
    "execution": {
     "iopub.execute_input": "2025-10-21T12:52:34.950838Z",
     "iopub.status.busy": "2025-10-21T12:52:34.949286Z",
     "iopub.status.idle": "2025-10-21T12:52:40.749999Z",
     "shell.execute_reply": "2025-10-21T12:52:40.749337Z",
     "shell.execute_reply.started": "2025-10-21T12:52:34.950727Z"
    },
    "scrolled": true
   },
   "outputs": [
    {
     "name": "stderr",
     "output_type": "stream",
     "text": [
      "/Users/thorsten/.pyenv/versions/Spatial_Transcriptomics/lib/python3.13/site-packages/scanpy/_utils/__init__.py:33: FutureWarning: `__version__` is deprecated, use `importlib.metadata.version('anndata')` instead.\n",
      "  from anndata import __version__ as anndata_version\n",
      "/Users/thorsten/.pyenv/versions/Spatial_Transcriptomics/lib/python3.13/site-packages/scanpy/__init__.py:24: FutureWarning: `__version__` is deprecated, use `importlib.metadata.version('anndata')` instead.\n",
      "  if Version(anndata.__version__) >= Version(\"0.11.0rc2\"):\n",
      "/Users/thorsten/.pyenv/versions/Spatial_Transcriptomics/lib/python3.13/site-packages/scanpy/readwrite.py:16: FutureWarning: `__version__` is deprecated, use `importlib.metadata.version('anndata')` instead.\n",
      "  if Version(anndata.__version__) >= Version(\"0.11.0rc2\"):\n",
      "/Users/thorsten/.pyenv/versions/Spatial_Transcriptomics/lib/python3.13/site-packages/dask/dataframe/__init__.py:31: FutureWarning: The legacy Dask DataFrame implementation is deprecated and will be removed in a future version. Set the configuration option `dataframe.query-planning` to `True` or None to enable the new Dask Dataframe implementation and silence this warning.\n",
      "  warnings.warn(\n",
      "/Users/thorsten/.pyenv/versions/Spatial_Transcriptomics/lib/python3.13/site-packages/xarray_schema/__init__.py:1: UserWarning: pkg_resources is deprecated as an API. See https://setuptools.pypa.io/en/latest/pkg_resources.html. The pkg_resources package is slated for removal as early as 2025-11-30. Refrain from using this package or pin to Setuptools<81.\n",
      "  from pkg_resources import DistributionNotFound, get_distribution\n",
      "/Users/thorsten/.pyenv/versions/Spatial_Transcriptomics/lib/python3.13/site-packages/spatialdata/_core/query/relational_query.py:532: FutureWarning: functools.partial will be a method descriptor in future Python versions; wrap it in enum.member() if you want to preserve the old behavior\n",
      "  left = partial(_left_join_spatialelement_table)\n",
      "/Users/thorsten/.pyenv/versions/Spatial_Transcriptomics/lib/python3.13/site-packages/spatialdata/_core/query/relational_query.py:533: FutureWarning: functools.partial will be a method descriptor in future Python versions; wrap it in enum.member() if you want to preserve the old behavior\n",
      "  left_exclusive = partial(_left_exclusive_join_spatialelement_table)\n",
      "/Users/thorsten/.pyenv/versions/Spatial_Transcriptomics/lib/python3.13/site-packages/spatialdata/_core/query/relational_query.py:534: FutureWarning: functools.partial will be a method descriptor in future Python versions; wrap it in enum.member() if you want to preserve the old behavior\n",
      "  inner = partial(_inner_join_spatialelement_table)\n",
      "/Users/thorsten/.pyenv/versions/Spatial_Transcriptomics/lib/python3.13/site-packages/spatialdata/_core/query/relational_query.py:535: FutureWarning: functools.partial will be a method descriptor in future Python versions; wrap it in enum.member() if you want to preserve the old behavior\n",
      "  right = partial(_right_join_spatialelement_table)\n",
      "/Users/thorsten/.pyenv/versions/Spatial_Transcriptomics/lib/python3.13/site-packages/spatialdata/_core/query/relational_query.py:536: FutureWarning: functools.partial will be a method descriptor in future Python versions; wrap it in enum.member() if you want to preserve the old behavior\n",
      "  right_exclusive = partial(_right_exclusive_join_spatialelement_table)\n",
      "/Users/thorsten/.pyenv/versions/Spatial_Transcriptomics/lib/python3.13/site-packages/squidpy/gr/_utils.py:23: FutureWarning: `__version__` is deprecated, use `importlib.metadata.version('anndata')` instead.\n",
      "  CAN_USE_SPARSE_ARRAY = Version(anndata.__version__) >= Version(\"0.11.0rc1\")\n",
      "/Users/thorsten/.pyenv/versions/Spatial_Transcriptomics/lib/python3.13/site-packages/anndata/__init__.py:70: FutureWarning: Importing read_text from `anndata` is deprecated. Import anndata.io.read_text instead.\n",
      "  return module_get_attr_redirect(attr_name, deprecated_mapping=_DEPRECATED)\n"
     ]
    }
   ],
   "source": [
    "import scanpy as sc\n",
    "import squidpy as sq\n",
    "import pandas as pd\n",
    "import numpy as np\n",
    "import matplotlib.pyplot as plt\n",
    "import seaborn as sns"
   ]
  },
  {
   "cell_type": "code",
   "execution_count": 3,
   "id": "6029c860-8b1d-47b0-8ceb-5b3e0c131802",
   "metadata": {
    "execution": {
     "iopub.execute_input": "2025-10-21T12:57:27.001420Z",
     "iopub.status.busy": "2025-10-21T12:57:26.993064Z",
     "iopub.status.idle": "2025-10-21T12:57:27.271030Z",
     "shell.execute_reply": "2025-10-21T12:57:27.269134Z",
     "shell.execute_reply.started": "2025-10-21T12:57:26.999980Z"
    }
   },
   "outputs": [
    {
     "name": "stdout",
     "output_type": "stream",
     "text": [
      "/Users/thorsten/code/ThorstenCodes/Bioinformatics_TK/Projects/Spatial Transcriptomics/Project_1/dataset2_python/scripts\n"
     ]
    }
   ],
   "source": [
    "# Check the path you are working from\n",
    "!pwd"
   ]
  },
  {
   "cell_type": "code",
   "execution_count": 4,
   "id": "0c978a33-fb53-4026-966e-50650634329a",
   "metadata": {
    "execution": {
     "iopub.execute_input": "2025-10-21T12:58:09.673483Z",
     "iopub.status.busy": "2025-10-21T12:58:09.671191Z",
     "iopub.status.idle": "2025-10-21T12:58:09.714437Z",
     "shell.execute_reply": "2025-10-21T12:58:09.712629Z",
     "shell.execute_reply.started": "2025-10-21T12:58:09.673403Z"
    }
   },
   "outputs": [
    {
     "name": "stdout",
     "output_type": "stream",
     "text": [
      "/Users/thorsten/code/ThorstenCodes/Bioinformatics_TK/Projects/Spatial Transcriptomics/Project_1/dataset2_python\n"
     ]
    }
   ],
   "source": [
    "# Change the path for easier navigation through the project\n",
    "%cd '/Users/thorsten/code/ThorstenCodes/Bioinformatics_TK/Projects/Spatial Transcriptomics/Project_1/dataset2_python/'"
   ]
  },
  {
   "cell_type": "code",
   "execution_count": 5,
   "id": "a07df21b-90aa-4575-8465-bb5863f42725",
   "metadata": {
    "execution": {
     "iopub.execute_input": "2025-10-21T12:58:31.052980Z",
     "iopub.status.busy": "2025-10-21T12:58:31.051252Z",
     "iopub.status.idle": "2025-10-21T12:58:31.856530Z",
     "shell.execute_reply": "2025-10-21T12:58:31.856077Z",
     "shell.execute_reply.started": "2025-10-21T12:58:31.052899Z"
    }
   },
   "outputs": [
    {
     "data": {
      "text/plain": [
       "AnnData object with n_obs × n_vars = 1228 × 13081\n",
       "    obs: 'in_tissue', 'array_row', 'array_col', 'spot', 'n_genes_by_counts', 'log1p_n_genes_by_counts', 'total_counts', 'log1p_total_counts', 'pct_counts_in_top_50_genes', 'pct_counts_in_top_100_genes', 'pct_counts_in_top_200_genes', 'pct_counts_in_top_500_genes', 'total_counts_mt', 'log1p_total_counts_mt', 'pct_counts_mt', 'n_counts', 'n_genes', 'Clusters'\n",
       "    var: 'gene_ids', 'feature_types', 'genome', 'mt', 'n_cells_by_counts', 'mean_counts', 'log1p_mean_counts', 'pct_dropout_by_counts', 'total_counts', 'log1p_total_counts', 'n_cells', 'highly_variable', 'means', 'dispersions', 'dispersions_norm'\n",
       "    uns: 'Clusters', 'Clusters_colors', 'hvg', 'log1p', 'neighbors', 'pca', 'rank_genes_groups', 'spatial', 'spot_colors', 'umap'\n",
       "    obsm: 'X_pca', 'X_umap', 'spatial'\n",
       "    varm: 'PCs'\n",
       "    obsp: 'connectivities', 'distances'"
      ]
     },
     "execution_count": 5,
     "metadata": {},
     "output_type": "execute_result"
    }
   ],
   "source": [
    "# load preprocessed data\n",
    "sc.read_h5ad('./results/preprocessed.h5ad')"
   ]
  },
  {
   "cell_type": "code",
   "execution_count": 2,
   "id": "90375291-1d14-4b37-a686-505f3b23e08d",
   "metadata": {
    "execution": {
     "iopub.execute_input": "2025-10-21T12:53:57.454776Z",
     "iopub.status.busy": "2025-10-21T12:53:57.449090Z",
     "iopub.status.idle": "2025-10-21T12:53:57.675570Z",
     "shell.execute_reply": "2025-10-21T12:53:57.674455Z",
     "shell.execute_reply.started": "2025-10-21T12:53:57.454673Z"
    }
   },
   "outputs": [
    {
     "name": "stdout",
     "output_type": "stream",
     "text": [
      "/Users/thorsten/code/ThorstenCodes/Bioinformatics_TK/Projects/Spatial Transcriptomics/Project_1/dataset2_python/scripts\n"
     ]
    }
   ],
   "source": []
  },
  {
   "cell_type": "code",
   "execution_count": null,
   "id": "f4bd1e1c-6c25-4015-b2f8-373abf70f1da",
   "metadata": {},
   "outputs": [],
   "source": []
  },
  {
   "cell_type": "code",
   "execution_count": null,
   "id": "be95d381-943f-4947-8455-dafcee40fb29",
   "metadata": {},
   "outputs": [],
   "source": []
  }
 ],
 "metadata": {
  "kernelspec": {
   "display_name": "Python ST",
   "language": "python",
   "name": "spatial_transcriptomics"
  },
  "language_info": {
   "codemirror_mode": {
    "name": "ipython",
    "version": 3
   },
   "file_extension": ".py",
   "mimetype": "text/x-python",
   "name": "python",
   "nbconvert_exporter": "python",
   "pygments_lexer": "ipython3",
   "version": "3.13.4"
  }
 },
 "nbformat": 4,
 "nbformat_minor": 5
}

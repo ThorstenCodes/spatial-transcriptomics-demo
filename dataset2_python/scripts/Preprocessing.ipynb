{
 "cells": [
  {
   "cell_type": "markdown",
   "id": "041b1e9c-3f4e-4a73-8a32-600dc82527a7",
   "metadata": {},
   "source": [
    "# Spatial Transcriptomics Visium "
   ]
  },
  {
   "cell_type": "markdown",
   "id": "4d68972f-9def-46f2-b7e9-3371fa2d29c3",
   "metadata": {},
   "source": [
    "### Dataset Download"
   ]
  },
  {
   "cell_type": "markdown",
   "id": "3e42c63b-7a45-448c-b818-4a82e7947b3d",
   "metadata": {},
   "source": [
    "The Dataset is publicly available under GEO Number: GSE211895\n",
    "\n",
    "This is how to downloaded it: "
   ]
  },
  {
   "cell_type": "code",
   "execution_count": null,
   "id": "301b0f32-931e-4c07-a096-47889c9d45fa",
   "metadata": {},
   "outputs": [],
   "source": [
    "!wget -c -O RawFiles.zip \"https://smi-public.objects.liquidweb.services/6k_release/RawFiles.zip\"\n",
    "# !!!Careful!!! Datset is big --> 650 GB!, Later on i will just use parts of it to demonstrate analysis)"
   ]
  },
  {
   "cell_type": "markdown",
   "id": "dcdba63f-ca38-40e0-b4b2-ed9c607d3bee",
   "metadata": {
    "execution": {
     "iopub.execute_input": "2025-10-18T21:16:57.131556Z",
     "iopub.status.busy": "2025-10-18T21:16:57.128423Z",
     "iopub.status.idle": "2025-10-18T21:16:57.182968Z",
     "shell.execute_reply": "2025-10-18T21:16:57.181957Z",
     "shell.execute_reply.started": "2025-10-18T21:16:57.131496Z"
    }
   },
   "source": [
    "## Loading Data"
   ]
  },
  {
   "cell_type": "code",
   "execution_count": 1,
   "id": "16855b3b-4178-4ae4-b9d6-1de346461e00",
   "metadata": {
    "execution": {
     "iopub.execute_input": "2025-10-19T15:19:41.700491Z",
     "iopub.status.busy": "2025-10-19T15:19:41.700099Z",
     "iopub.status.idle": "2025-10-19T15:21:08.701915Z",
     "shell.execute_reply": "2025-10-19T15:21:08.701068Z",
     "shell.execute_reply.started": "2025-10-19T15:19:41.700462Z"
    }
   },
   "outputs": [
    {
     "name": "stderr",
     "output_type": "stream",
     "text": [
      "/Users/thorsten/.pyenv/versions/Spatial_Transcriptomics/lib/python3.13/site-packages/scanpy/_utils/__init__.py:33: FutureWarning: `__version__` is deprecated, use `importlib.metadata.version('anndata')` instead.\n",
      "  from anndata import __version__ as anndata_version\n",
      "/Users/thorsten/.pyenv/versions/Spatial_Transcriptomics/lib/python3.13/site-packages/scanpy/__init__.py:24: FutureWarning: `__version__` is deprecated, use `importlib.metadata.version('anndata')` instead.\n",
      "  if Version(anndata.__version__) >= Version(\"0.11.0rc2\"):\n",
      "/Users/thorsten/.pyenv/versions/Spatial_Transcriptomics/lib/python3.13/site-packages/scanpy/readwrite.py:16: FutureWarning: `__version__` is deprecated, use `importlib.metadata.version('anndata')` instead.\n",
      "  if Version(anndata.__version__) >= Version(\"0.11.0rc2\"):\n",
      "/Users/thorsten/.pyenv/versions/Spatial_Transcriptomics/lib/python3.13/site-packages/dask/dataframe/__init__.py:31: FutureWarning: The legacy Dask DataFrame implementation is deprecated and will be removed in a future version. Set the configuration option `dataframe.query-planning` to `True` or None to enable the new Dask Dataframe implementation and silence this warning.\n",
      "  warnings.warn(\n",
      "/Users/thorsten/.pyenv/versions/Spatial_Transcriptomics/lib/python3.13/site-packages/xarray_schema/__init__.py:1: UserWarning: pkg_resources is deprecated as an API. See https://setuptools.pypa.io/en/latest/pkg_resources.html. The pkg_resources package is slated for removal as early as 2025-11-30. Refrain from using this package or pin to Setuptools<81.\n",
      "  from pkg_resources import DistributionNotFound, get_distribution\n",
      "/Users/thorsten/.pyenv/versions/Spatial_Transcriptomics/lib/python3.13/site-packages/spatialdata/_core/query/relational_query.py:532: FutureWarning: functools.partial will be a method descriptor in future Python versions; wrap it in enum.member() if you want to preserve the old behavior\n",
      "  left = partial(_left_join_spatialelement_table)\n",
      "/Users/thorsten/.pyenv/versions/Spatial_Transcriptomics/lib/python3.13/site-packages/spatialdata/_core/query/relational_query.py:533: FutureWarning: functools.partial will be a method descriptor in future Python versions; wrap it in enum.member() if you want to preserve the old behavior\n",
      "  left_exclusive = partial(_left_exclusive_join_spatialelement_table)\n",
      "/Users/thorsten/.pyenv/versions/Spatial_Transcriptomics/lib/python3.13/site-packages/spatialdata/_core/query/relational_query.py:534: FutureWarning: functools.partial will be a method descriptor in future Python versions; wrap it in enum.member() if you want to preserve the old behavior\n",
      "  inner = partial(_inner_join_spatialelement_table)\n",
      "/Users/thorsten/.pyenv/versions/Spatial_Transcriptomics/lib/python3.13/site-packages/spatialdata/_core/query/relational_query.py:535: FutureWarning: functools.partial will be a method descriptor in future Python versions; wrap it in enum.member() if you want to preserve the old behavior\n",
      "  right = partial(_right_join_spatialelement_table)\n",
      "/Users/thorsten/.pyenv/versions/Spatial_Transcriptomics/lib/python3.13/site-packages/spatialdata/_core/query/relational_query.py:536: FutureWarning: functools.partial will be a method descriptor in future Python versions; wrap it in enum.member() if you want to preserve the old behavior\n",
      "  right_exclusive = partial(_right_exclusive_join_spatialelement_table)\n",
      "/Users/thorsten/.pyenv/versions/Spatial_Transcriptomics/lib/python3.13/site-packages/squidpy/gr/_utils.py:23: FutureWarning: `__version__` is deprecated, use `importlib.metadata.version('anndata')` instead.\n",
      "  CAN_USE_SPARSE_ARRAY = Version(anndata.__version__) >= Version(\"0.11.0rc1\")\n",
      "/Users/thorsten/.pyenv/versions/Spatial_Transcriptomics/lib/python3.13/site-packages/anndata/__init__.py:70: FutureWarning: Importing read_text from `anndata` is deprecated. Import anndata.io.read_text instead.\n",
      "  return module_get_attr_redirect(attr_name, deprecated_mapping=_DEPRECATED)\n"
     ]
    }
   ],
   "source": [
    "# Import Libraries\n",
    "import scanpy as sc\n",
    "import squidpy as sq\n",
    "import pandas as pd\n",
    "import matplotlib.pyplot as plt\n",
    "import seaborn as sns\n",
    "import numpy as np"
   ]
  },
  {
   "cell_type": "markdown",
   "id": "0f2ee488-2301-471b-b3f4-be09ccc86afd",
   "metadata": {
    "execution": {
     "iopub.execute_input": "2025-10-19T13:48:25.986508Z",
     "iopub.status.busy": "2025-10-19T13:48:25.981565Z",
     "iopub.status.idle": "2025-10-19T13:48:26.323878Z",
     "shell.execute_reply": "2025-10-19T13:48:26.323207Z",
     "shell.execute_reply.started": "2025-10-19T13:48:25.986474Z"
    }
   },
   "source": [
    "Unfortunately the dataset we downloaded need first to be prepared for the analysis.\n",
    "\n",
    "1.) Make a folder with the GSME Number and the unique prefix of each sample <br>\n",
    "2.) Generate manually a data structure that looks like this for one sample: \n",
    "\n",
    "```SampleName/\n",
    "├── filtered_feature_bc_matrix/  # Main gene expression matrix\n",
    "├── raw_feature_bc_matrix/       # Unfiltered counts\n",
    "├── spatial/                     # Spatial imaging data\n",
    "│   ├── tissue_positions_list.csv  # Spot coordinates\n",
    "│   ├── scalefactors_json.json     # Scale factors for images\n",
    "│   ├── tissue_lowres_image.png    # Low-res histology image\n",
    "│   └── tissue_hires_image.png    # High-res histology image\n",
    "```\n",
    "3.) The lowres_image.png is not provided. I will show how to generate it and how to adopt the scalefactors file."
   ]
  },
  {
   "cell_type": "code",
   "execution_count": 9,
   "id": "85c5cf01-254d-4f41-93ca-56123f98da88",
   "metadata": {
    "execution": {
     "iopub.execute_input": "2025-10-19T15:41:01.606450Z",
     "iopub.status.busy": "2025-10-19T15:41:01.605000Z",
     "iopub.status.idle": "2025-10-19T15:41:01.783555Z",
     "shell.execute_reply": "2025-10-19T15:41:01.782610Z",
     "shell.execute_reply.started": "2025-10-19T15:41:01.606386Z"
    }
   },
   "outputs": [],
   "source": [
    "from PIL import Image\n",
    "\n",
    "# Load high-resolution image\n",
    "img = Image.open(\"data/GSME6505118_RatColon_FF_A_e4/spatial/tissue_hires_image.png\")\n",
    "\n",
    "# Downscale (adjust factor to match typical Visium ratios)\n",
    "scale_factor = 0.1  # 10x smaller\n",
    "new_size = (int(img.width * scale_factor), int(img.height * scale_factor))\n",
    "\n",
    "# Resize\n",
    "img_lowres = img.resize(new_size, Image.LANCZOS)\n",
    "\n",
    "# Save as lowres image\n",
    "img_lowres.save(\"data/GSME6505118_RatColon_FF_A_e4/spatial/tissue_lowres_image.png\")\n"
   ]
  },
  {
   "cell_type": "code",
   "execution_count": 10,
   "id": "b799dff9-d39a-448d-b499-002f0497ead8",
   "metadata": {
    "execution": {
     "iopub.execute_input": "2025-10-19T15:41:40.617549Z",
     "iopub.status.busy": "2025-10-19T15:41:40.615703Z",
     "iopub.status.idle": "2025-10-19T15:41:40.645513Z",
     "shell.execute_reply": "2025-10-19T15:41:40.644580Z",
     "shell.execute_reply.started": "2025-10-19T15:41:40.617467Z"
    }
   },
   "outputs": [],
   "source": [
    "# Edit the JSON file\n",
    "import json\n",
    "with open(\"data/GSME6505118_RatColon_FF_A_e4/spatial/scalefactors_json.json\") as f:\n",
    "    scales = json.load(f)\n",
    "scales[\"tissue_lowres_scalef\"] = scales[\"tissue_hires_scalef\"] * scale_factor\n",
    "with open(\"data/GSME6505118_RatColon_FF_A_e4/spatial/scalefactors_json.json\", \"w\") as f:\n",
    "    json.dump(scales, f, indent=4)"
   ]
  },
  {
   "cell_type": "code",
   "execution_count": 14,
   "id": "3d7c0780-0755-4f05-9b9b-196031a11572",
   "metadata": {
    "execution": {
     "iopub.execute_input": "2025-10-19T15:43:58.633515Z",
     "iopub.status.busy": "2025-10-19T15:43:58.631471Z",
     "iopub.status.idle": "2025-10-19T15:43:59.021880Z",
     "shell.execute_reply": "2025-10-19T15:43:59.021321Z",
     "shell.execute_reply.started": "2025-10-19T15:43:58.633421Z"
    }
   },
   "outputs": [
    {
     "name": "stderr",
     "output_type": "stream",
     "text": [
      "/Users/thorsten/.pyenv/versions/Spatial_Transcriptomics/lib/python3.13/site-packages/anndata/_core/anndata.py:1794: UserWarning: Variable names are not unique. To make them unique, call `.var_names_make_unique`.\n",
      "  utils.warn_names_duplicates(\"var\")\n",
      "/Users/thorsten/.pyenv/versions/Spatial_Transcriptomics/lib/python3.13/site-packages/anndata/_core/anndata.py:1794: UserWarning: Variable names are not unique. To make them unique, call `.var_names_make_unique`.\n",
      "  utils.warn_names_duplicates(\"var\")\n"
     ]
    }
   ],
   "source": [
    "adata = sq.read.visium('data/GSME6505118_RatColon_FF_A_e4/')\n",
    "adata.var_names_make_unique()"
   ]
  },
  {
   "cell_type": "code",
   "execution_count": 15,
   "id": "8c51c823-ac13-4351-bd27-fbc5748ab807",
   "metadata": {
    "execution": {
     "iopub.execute_input": "2025-10-19T15:44:02.073271Z",
     "iopub.status.busy": "2025-10-19T15:44:02.072326Z",
     "iopub.status.idle": "2025-10-19T15:44:02.087902Z",
     "shell.execute_reply": "2025-10-19T15:44:02.086613Z",
     "shell.execute_reply.started": "2025-10-19T15:44:02.073211Z"
    }
   },
   "outputs": [
    {
     "data": {
      "text/plain": [
       "AnnData object with n_obs × n_vars = 1428 × 25399\n",
       "    obs: 'in_tissue', 'array_row', 'array_col'\n",
       "    var: 'gene_ids', 'feature_types', 'genome'\n",
       "    uns: 'spatial'\n",
       "    obsm: 'spatial'"
      ]
     },
     "execution_count": 15,
     "metadata": {},
     "output_type": "execute_result"
    }
   ],
   "source": [
    "adata"
   ]
  },
  {
   "cell_type": "code",
   "execution_count": null,
   "id": "493e1998-e955-43c6-b2a0-5f0c35eb1034",
   "metadata": {},
   "outputs": [],
   "source": []
  },
  {
   "cell_type": "code",
   "execution_count": null,
   "id": "d4c1b465-7de1-4361-8392-a560289ca875",
   "metadata": {},
   "outputs": [],
   "source": []
  },
  {
   "cell_type": "code",
   "execution_count": null,
   "id": "8ec07821-202a-4e0b-8443-da16af468299",
   "metadata": {},
   "outputs": [],
   "source": []
  }
 ],
 "metadata": {
  "kernelspec": {
   "display_name": "Python ST",
   "language": "python",
   "name": "spatial_transcriptomics"
  },
  "language_info": {
   "codemirror_mode": {
    "name": "ipython",
    "version": 3
   },
   "file_extension": ".py",
   "mimetype": "text/x-python",
   "name": "python",
   "nbconvert_exporter": "python",
   "pygments_lexer": "ipython3",
   "version": "3.13.4"
  }
 },
 "nbformat": 4,
 "nbformat_minor": 5
}

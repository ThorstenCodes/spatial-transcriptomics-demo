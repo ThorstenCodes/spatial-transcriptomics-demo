{
 "cells": [
  {
   "cell_type": "markdown",
   "id": "041b1e9c-3f4e-4a73-8a32-600dc82527a7",
   "metadata": {},
   "source": [
    "# Spatial Transcriptomics Visium "
   ]
  },
  {
   "cell_type": "markdown",
   "id": "4d68972f-9def-46f2-b7e9-3371fa2d29c3",
   "metadata": {},
   "source": [
    "### Dataset Download"
   ]
  },
  {
   "cell_type": "markdown",
   "id": "3e42c63b-7a45-448c-b818-4a82e7947b3d",
   "metadata": {},
   "source": [
    "The Dataset is publicly available under GEO Number: GSE211895\n",
    "\n",
    "This is how i downloaded it: "
   ]
  },
  {
   "cell_type": "code",
   "execution_count": null,
   "id": "301b0f32-931e-4c07-a096-47889c9d45fa",
   "metadata": {},
   "outputs": [],
   "source": [
    "!wget -c -O RawFiles.zip \"https://smi-public.objects.liquidweb.services/6k_release/RawFiles.zip\"\n",
    "# !!!Careful!!! Datset is big --> 650 GB!, Later on i will just use parts of it to demonstrate analysis)"
   ]
  },
  {
   "cell_type": "markdown",
   "id": "dcdba63f-ca38-40e0-b4b2-ed9c607d3bee",
   "metadata": {
    "execution": {
     "iopub.execute_input": "2025-10-18T21:16:57.131556Z",
     "iopub.status.busy": "2025-10-18T21:16:57.128423Z",
     "iopub.status.idle": "2025-10-18T21:16:57.182968Z",
     "shell.execute_reply": "2025-10-18T21:16:57.181957Z",
     "shell.execute_reply.started": "2025-10-18T21:16:57.131496Z"
    }
   },
   "source": [
    "## Loading Data"
   ]
  },
  {
   "cell_type": "code",
   "execution_count": null,
   "id": "16855b3b-4178-4ae4-b9d6-1de346461e00",
   "metadata": {},
   "outputs": [],
   "source": []
  },
  {
   "cell_type": "code",
   "execution_count": null,
   "id": "cce4d5e1-245a-4417-a70a-20d62230a2c3",
   "metadata": {},
   "outputs": [],
   "source": []
  },
  {
   "cell_type": "code",
   "execution_count": null,
   "id": "8c51c823-ac13-4351-bd27-fbc5748ab807",
   "metadata": {},
   "outputs": [],
   "source": []
  },
  {
   "cell_type": "code",
   "execution_count": null,
   "id": "493e1998-e955-43c6-b2a0-5f0c35eb1034",
   "metadata": {},
   "outputs": [],
   "source": []
  },
  {
   "cell_type": "code",
   "execution_count": null,
   "id": "d4c1b465-7de1-4361-8392-a560289ca875",
   "metadata": {},
   "outputs": [],
   "source": []
  },
  {
   "cell_type": "code",
   "execution_count": null,
   "id": "8ec07821-202a-4e0b-8443-da16af468299",
   "metadata": {},
   "outputs": [],
   "source": []
  }
 ],
 "metadata": {
  "kernelspec": {
   "display_name": "Python 3 (ipykernel)",
   "language": "python",
   "name": "python3"
  },
  "language_info": {
   "codemirror_mode": {
    "name": "ipython",
    "version": 3
   },
   "file_extension": ".py",
   "mimetype": "text/x-python",
   "name": "python",
   "nbconvert_exporter": "python",
   "pygments_lexer": "ipython3",
   "version": "3.13.2"
  }
 },
 "nbformat": 4,
 "nbformat_minor": 5
}
